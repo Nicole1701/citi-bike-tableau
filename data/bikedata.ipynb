{
 "cells": [
  {
   "cell_type": "markdown",
   "metadata": {},
   "source": [
    "## Setup and Dependencies"
   ]
  },
  {
   "cell_type": "code",
   "execution_count": 1,
   "metadata": {},
   "outputs": [],
   "source": [
    "# Dependencies and Setup\n",
    "import pandas as pd\n",
    "import numpy as np\n",
    "import scipy.stats as st"
   ]
  },
  {
   "cell_type": "code",
   "execution_count": 3,
   "metadata": {},
   "outputs": [
    {
     "data": {
      "text/html": [
       "<div>\n",
       "<style scoped>\n",
       "    .dataframe tbody tr th:only-of-type {\n",
       "        vertical-align: middle;\n",
       "    }\n",
       "\n",
       "    .dataframe tbody tr th {\n",
       "        vertical-align: top;\n",
       "    }\n",
       "\n",
       "    .dataframe thead th {\n",
       "        text-align: right;\n",
       "    }\n",
       "</style>\n",
       "<table border=\"1\" class=\"dataframe\">\n",
       "  <thead>\n",
       "    <tr style=\"text-align: right;\">\n",
       "      <th></th>\n",
       "      <th>tripduration</th>\n",
       "      <th>starttime</th>\n",
       "      <th>stoptime</th>\n",
       "      <th>start station id</th>\n",
       "      <th>start station name</th>\n",
       "      <th>start station latitude</th>\n",
       "      <th>start station longitude</th>\n",
       "      <th>end station id</th>\n",
       "      <th>end station name</th>\n",
       "      <th>end station latitude</th>\n",
       "      <th>end station longitude</th>\n",
       "      <th>bikeid</th>\n",
       "      <th>usertype</th>\n",
       "      <th>birth year</th>\n",
       "      <th>gender</th>\n",
       "    </tr>\n",
       "  </thead>\n",
       "  <tbody>\n",
       "    <tr>\n",
       "      <th>0</th>\n",
       "      <td>260</td>\n",
       "      <td>11/1/2019 0:02</td>\n",
       "      <td>11/1/2019 0:07</td>\n",
       "      <td>3186</td>\n",
       "      <td>Grove St PATH</td>\n",
       "      <td>40.719586</td>\n",
       "      <td>-74.043117</td>\n",
       "      <td>3203</td>\n",
       "      <td>Hamilton Park</td>\n",
       "      <td>40.727596</td>\n",
       "      <td>-74.044247</td>\n",
       "      <td>26314</td>\n",
       "      <td>Subscriber</td>\n",
       "      <td>1964</td>\n",
       "      <td>1</td>\n",
       "    </tr>\n",
       "    <tr>\n",
       "      <th>1</th>\n",
       "      <td>285</td>\n",
       "      <td>11/1/2019 0:05</td>\n",
       "      <td>11/1/2019 0:10</td>\n",
       "      <td>3206</td>\n",
       "      <td>Hilltop</td>\n",
       "      <td>40.731169</td>\n",
       "      <td>-74.057574</td>\n",
       "      <td>3212</td>\n",
       "      <td>Christ Hospital</td>\n",
       "      <td>40.734786</td>\n",
       "      <td>-74.050444</td>\n",
       "      <td>26238</td>\n",
       "      <td>Subscriber</td>\n",
       "      <td>1986</td>\n",
       "      <td>2</td>\n",
       "    </tr>\n",
       "    <tr>\n",
       "      <th>2</th>\n",
       "      <td>501</td>\n",
       "      <td>11/1/2019 0:05</td>\n",
       "      <td>11/1/2019 0:14</td>\n",
       "      <td>3186</td>\n",
       "      <td>Grove St PATH</td>\n",
       "      <td>40.719586</td>\n",
       "      <td>-74.043117</td>\n",
       "      <td>3192</td>\n",
       "      <td>Liberty Light Rail</td>\n",
       "      <td>40.711242</td>\n",
       "      <td>-74.055701</td>\n",
       "      <td>29645</td>\n",
       "      <td>Subscriber</td>\n",
       "      <td>1995</td>\n",
       "      <td>1</td>\n",
       "    </tr>\n",
       "    <tr>\n",
       "      <th>3</th>\n",
       "      <td>556</td>\n",
       "      <td>11/1/2019 0:07</td>\n",
       "      <td>11/1/2019 0:17</td>\n",
       "      <td>3209</td>\n",
       "      <td>Brunswick St</td>\n",
       "      <td>40.724176</td>\n",
       "      <td>-74.050656</td>\n",
       "      <td>3678</td>\n",
       "      <td>Fairmount Ave</td>\n",
       "      <td>40.725726</td>\n",
       "      <td>-74.071959</td>\n",
       "      <td>29221</td>\n",
       "      <td>Customer</td>\n",
       "      <td>1992</td>\n",
       "      <td>1</td>\n",
       "    </tr>\n",
       "    <tr>\n",
       "      <th>4</th>\n",
       "      <td>321</td>\n",
       "      <td>11/1/2019 0:11</td>\n",
       "      <td>11/1/2019 0:17</td>\n",
       "      <td>3273</td>\n",
       "      <td>Manila &amp; 1st</td>\n",
       "      <td>40.721651</td>\n",
       "      <td>-74.042884</td>\n",
       "      <td>3273</td>\n",
       "      <td>Manila &amp; 1st</td>\n",
       "      <td>40.721651</td>\n",
       "      <td>-74.042884</td>\n",
       "      <td>29591</td>\n",
       "      <td>Subscriber</td>\n",
       "      <td>1988</td>\n",
       "      <td>1</td>\n",
       "    </tr>\n",
       "  </tbody>\n",
       "</table>\n",
       "</div>"
      ],
      "text/plain": [
       "   tripduration       starttime        stoptime  start station id  \\\n",
       "0           260  11/1/2019 0:02  11/1/2019 0:07              3186   \n",
       "1           285  11/1/2019 0:05  11/1/2019 0:10              3206   \n",
       "2           501  11/1/2019 0:05  11/1/2019 0:14              3186   \n",
       "3           556  11/1/2019 0:07  11/1/2019 0:17              3209   \n",
       "4           321  11/1/2019 0:11  11/1/2019 0:17              3273   \n",
       "\n",
       "  start station name  start station latitude  start station longitude  \\\n",
       "0      Grove St PATH               40.719586               -74.043117   \n",
       "1            Hilltop               40.731169               -74.057574   \n",
       "2      Grove St PATH               40.719586               -74.043117   \n",
       "3       Brunswick St               40.724176               -74.050656   \n",
       "4       Manila & 1st               40.721651               -74.042884   \n",
       "\n",
       "   end station id    end station name  end station latitude  \\\n",
       "0            3203       Hamilton Park             40.727596   \n",
       "1            3212     Christ Hospital             40.734786   \n",
       "2            3192  Liberty Light Rail             40.711242   \n",
       "3            3678       Fairmount Ave             40.725726   \n",
       "4            3273        Manila & 1st             40.721651   \n",
       "\n",
       "   end station longitude  bikeid    usertype  birth year  gender  \n",
       "0             -74.044247   26314  Subscriber        1964       1  \n",
       "1             -74.050444   26238  Subscriber        1986       2  \n",
       "2             -74.055701   29645  Subscriber        1995       1  \n",
       "3             -74.071959   29221    Customer        1992       1  \n",
       "4             -74.042884   29591  Subscriber        1988       1  "
      ]
     },
     "execution_count": 3,
     "metadata": {},
     "output_type": "execute_result"
    }
   ],
   "source": [
    "# Load data file into pandas\n",
    "bike_data = pd.read_csv(\"./Rolling_12M_citibike-tripdata.csv\", encoding='utf-8')\n",
    "bike_data.head()"
   ]
  },
  {
   "cell_type": "markdown",
   "metadata": {},
   "source": [
    "### Remove Outliers from Trip Duration"
   ]
  },
  {
   "cell_type": "code",
   "execution_count": 4,
   "metadata": {},
   "outputs": [
    {
     "name": "stdout",
     "output_type": "stream",
     "text": [
      "Trip Duration Outliers\n",
      "-----------------------------\n",
      "Lower quartile: 301.0\n",
      "Upper quartile: 1277.0\n",
      "Interquartle range: 976.0\n",
      "Values below -1163.0 could be outliers.\n",
      "Values above 2741.0 could be outliers.\n",
      "\n"
     ]
    }
   ],
   "source": [
    "quartiles = bike_data['tripduration'].quantile([.25,.5,.75])\n",
    "lowerq = quartiles[0.25]\n",
    "upperq = quartiles[0.75]\n",
    "iqr = upperq-lowerq\n",
    "lower_bound = lowerq - (1.5*iqr)\n",
    "upper_bound = upperq + (1.5*iqr)\n",
    "\n",
    "print(f\"Trip Duration Outliers\")\n",
    "print(f\"-----------------------------\")\n",
    "print(f\"Lower quartile: {lowerq}\")\n",
    "print(f\"Upper quartile: {upperq}\")\n",
    "print(f\"Interquartle range: {iqr}\")\n",
    "print(f\"Values below {lower_bound} could be outliers.\")\n",
    "print(f\"Values above {upper_bound} could be outliers.\")\n",
    "print()"
   ]
  },
  {
   "cell_type": "code",
   "execution_count": 5,
   "metadata": {},
   "outputs": [
    {
     "data": {
      "text/plain": [
       "tripduration               354307\n",
       "starttime                  354307\n",
       "stoptime                   354307\n",
       "start station id           354307\n",
       "start station name         354307\n",
       "start station latitude     354307\n",
       "start station longitude    354307\n",
       "end station id             354307\n",
       "end station name           354307\n",
       "end station latitude       354307\n",
       "end station longitude      354307\n",
       "bikeid                     354307\n",
       "usertype                   354307\n",
       "birth year                 354307\n",
       "gender                     354307\n",
       "dtype: int64"
      ]
     },
     "execution_count": 5,
     "metadata": {},
     "output_type": "execute_result"
    }
   ],
   "source": [
    "bike_data.count()"
   ]
  },
  {
   "cell_type": "code",
   "execution_count": 7,
   "metadata": {},
   "outputs": [
    {
     "data": {
      "text/plain": [
       "tripduration               325044\n",
       "starttime                  325044\n",
       "stoptime                   325044\n",
       "start station id           325044\n",
       "start station name         325044\n",
       "start station latitude     325044\n",
       "start station longitude    325044\n",
       "end station id             325044\n",
       "end station name           325044\n",
       "end station latitude       325044\n",
       "end station longitude      325044\n",
       "bikeid                     325044\n",
       "usertype                   325044\n",
       "birth year                 325044\n",
       "gender                     325044\n",
       "dtype: int64"
      ]
     },
     "execution_count": 7,
     "metadata": {},
     "output_type": "execute_result"
    }
   ],
   "source": [
    "bike_data.drop(bike_data[bike_data['tripduration'] < lower_bound].index, inplace = True) \n",
    "bike_data.drop(bike_data[bike_data['tripduration'] > upper_bound].index, inplace = True) \n",
    "\n",
    "bike_data.count()"
   ]
  },
  {
   "cell_type": "markdown",
   "metadata": {},
   "source": [
    "## Export CSV"
   ]
  },
  {
   "cell_type": "code",
   "execution_count": 10,
   "metadata": {},
   "outputs": [],
   "source": [
    "# Export file as csv\n",
    "bike_data.to_csv(r'.\\Rolling_12M_citibike-tripdata_final.csv', encoding='utf-8', index=False)"
   ]
  },
  {
   "cell_type": "code",
   "execution_count": null,
   "metadata": {},
   "outputs": [],
   "source": []
  }
 ],
 "metadata": {
  "kernelspec": {
   "display_name": "Python 3",
   "language": "python",
   "name": "python3"
  },
  "language_info": {
   "codemirror_mode": {
    "name": "ipython",
    "version": 3
   },
   "file_extension": ".py",
   "mimetype": "text/x-python",
   "name": "python",
   "nbconvert_exporter": "python",
   "pygments_lexer": "ipython3",
   "version": "3.6.10"
  }
 },
 "nbformat": 4,
 "nbformat_minor": 4
}
